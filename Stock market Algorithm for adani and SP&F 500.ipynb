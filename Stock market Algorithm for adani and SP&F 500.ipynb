{
 "cells": [
  {
   "cell_type": "code",
   "execution_count": 141,
   "id": "bb03e561",
   "metadata": {},
   "outputs": [],
   "source": [
    "import pandas as pd\n",
    "import numpy as np\n",
    "import matplotlib.pyplot as plt\n",
    "from sklearn.linear_model import LinearRegression\n",
    "from sklearn.metrics import accuracy_score,confusion_matrix,r2_score\n",
    "import warnings"
   ]
  },
  {
   "cell_type": "code",
   "execution_count": 142,
   "id": "afa63719",
   "metadata": {},
   "outputs": [],
   "source": [
    "adani = pd.read_csv(\"labels.csv\")\n",
    "label_open_close = pd.read_csv(\"open label.csv\")"
   ]
  },
  {
   "cell_type": "code",
   "execution_count": 143,
   "id": "e59214b0",
   "metadata": {},
   "outputs": [],
   "source": [
    "adani_21 = adani[adani['Year'] == 2021]\n",
    "adani_22 = adani[adani['Year'] == 2022]"
   ]
  },
  {
   "cell_type": "code",
   "execution_count": 144,
   "id": "8dd32d66",
   "metadata": {},
   "outputs": [],
   "source": [
    "adani_21_details = label_open_close[label_open_close['Year'] == 2021]\n",
    "adani_22_details = label_open_close[label_open_close['Year'] == 2022].copy()"
   ]
  },
  {
   "cell_type": "code",
   "execution_count": 358,
   "id": "85e6a49d",
   "metadata": {},
   "outputs": [],
   "source": [
    "X = adani_21_details.drop(['Close','Date','Weekday'],axis=1)\n",
    "Y = adani_21_details['Close']\n",
    "Y = pd.DataFrame(Y)\n",
    "X.reset_index(drop=True,inplace=True)\n",
    "Y.reset_index(drop=True,inplace=True)"
   ]
  },
  {
   "cell_type": "code",
   "execution_count": 359,
   "id": "c3064ddd",
   "metadata": {},
   "outputs": [],
   "source": [
    "def deg(value):\n",
    "    global X\n",
    "    coll = []\n",
    "    for i in range(value,len(X)-1):\n",
    "        train_x = X[i-value:i]\n",
    "        train_y = Y[i-value:i]\n",
    "        model = LinearRegression()\n",
    "        model.fit(train_x,train_y)\n",
    "        test_x = X[i+1:i+2]\n",
    "        test_y = Y[i+1:i+2]\n",
    "        predicted = model.predict(test_x)\n",
    "        coll.append(predicted[0])\n",
    "    random = Y[:value+1]\n",
    "    ran = X[:value+1]\n",
    "    coll = pd.DataFrame(coll)\n",
    "    colys = ['Close']\n",
    "    coll.columns = colys\n",
    "    com = pd.concat([random,coll],axis=0)\n",
    "    X = X.reset_index(drop=True)  \n",
    "    com = com.reset_index(drop=True)  \n",
    "    com = pd.concat([X,com],axis=1)\n",
    "    return com"
   ]
  },
  {
   "cell_type": "markdown",
   "id": "14980100",
   "metadata": {},
   "source": [
    "# Q1"
   ]
  },
  {
   "cell_type": "code",
   "execution_count": 147,
   "id": "1e034c42",
   "metadata": {},
   "outputs": [],
   "source": [
    "end = []\n",
    "l = []\n",
    "a = 0\n",
    "adani_21_details = adani_21_details.reset_index(drop=True)\n",
    "for i in range(5,31):\n",
    "    table = deg(i)\n",
    "    table = table.reset_index(drop=True)\n",
    "    for i in range(0,len(adani_21_details)):\n",
    "        s = table.loc[i,'Close'] - adani_21_details.loc[i,'Close']\n",
    "        l.append(s)\n",
    "    ttl = sum(l)\n",
    "    ttl = ttl/len(adani_21_details)\n",
    "    end.append(ttl)"
   ]
  },
  {
   "cell_type": "code",
   "execution_count": 148,
   "id": "2540dae2",
   "metadata": {},
   "outputs": [
    {
     "data": {
      "text/plain": [
       "Text(0.5, 1.0, 'Adani Year 2021')"
      ]
     },
     "execution_count": 148,
     "metadata": {},
     "output_type": "execute_result"
    },
    {
     "data": {
      "image/png": "[encoded data removed]",
      "text/plain": [
       "<Figure size 1000x600 with 1 Axes>"
      ]
     },
     "metadata": {},
     "output_type": "display_data"
    }
   ],
   "source": [
    "plt.figure(figsize = (10,6))\n",
    "plt.plot(np.arange(5,31),end,marker = 'o', linestyle = '--', color = 'r', label = 'P/L')\n",
    "plt.legend(loc = 'best')\n",
    "plt.xlabel('W')\n",
    "plt.ylabel('Average P/L per trade')\n",
    "plt.title('Adani Year 2021')"
   ]
  },
  {
   "cell_type": "markdown",
   "id": "c5ef4241",
   "metadata": {},
   "source": [
    "Optimal value for W = 5 as the average profit loss is the highest"
   ]
  },
  {
   "cell_type": "code",
   "execution_count": 361,
   "id": "ecaac6ca",
   "metadata": {},
   "outputs": [],
   "source": [
    "w_5_2021 = deg(5)"
   ]
  },
  {
   "cell_type": "code",
   "execution_count": 346,
   "id": "eca53201",
   "metadata": {},
   "outputs": [],
   "source": [
    "X = adani_22_details.drop(['Close','Date','Weekday'],axis=1)\n",
    "Y = adani_22_details['Close']\n",
    "Y = pd.DataFrame(Y)\n",
    "X.reset_index(drop=True,inplace=True)\n",
    "Y.reset_index(drop=True,inplace=True)"
   ]
  },
  {
   "cell_type": "code",
   "execution_count": 347,
   "id": "1b0c161f",
   "metadata": {},
   "outputs": [],
   "source": [
    "def deg(value):\n",
    "    global X\n",
    "    coll = []\n",
    "    for i in range(value,len(X)-1):\n",
    "        train_x = X[i-value:i]\n",
    "        train_y = Y[i-value:i]\n",
    "        model = LinearRegression()\n",
    "        model.fit(train_x,train_y)\n",
    "        test_x = X[i+1:i+2]\n",
    "        test_y = Y[i+1:i+2]\n",
    "        predicted = model.predict(test_x)\n",
    "        coll.append(predicted[0])\n",
    "    random = Y[:value+1]\n",
    "    ran = X[:value+1]\n",
    "    coll = pd.DataFrame(coll)\n",
    "    colys = ['Close']\n",
    "    coll.columns = colys\n",
    "    com = pd.concat([random,coll],axis=0)\n",
    "    X = X.reset_index(drop=True)  \n",
    "    com = com.reset_index(drop=True)  \n",
    "    com = pd.concat([X,com],axis=1)\n",
    "    return com"
   ]
  },
  {
   "cell_type": "code",
   "execution_count": 348,
   "id": "f72253ff",
   "metadata": {},
   "outputs": [],
   "source": [
    "w_5 = deg(5)"
   ]
  },
  {
   "cell_type": "markdown",
   "id": "38fb4a35",
   "metadata": {},
   "source": [
    "# Q2"
   ]
  },
  {
   "cell_type": "code",
   "execution_count": 349,
   "id": "ad6e9e05",
   "metadata": {},
   "outputs": [],
   "source": [
    "def calculate_r2_scores(data, window_size):\n",
    "    r2_scores = []\n",
    "\n",
    "    for i in range(window_size, len(data)):\n",
    "        train_data = data.iloc[i - window_size:i].copy()  # Use .copy() to prevent warnings\n",
    "\n",
    "        train_data['Date'] = pd.to_datetime(train_data['Date'])\n",
    "        test_data = data.iloc[i:i + 3].copy()  # Take 3 elements for the test window\n",
    "        test_data['Date'] = pd.to_datetime(test_data['Date'])\n",
    "\n",
    "        reference_date = train_data['Date'].min()\n",
    "        train_data['Date'] = (train_data['Date'] - reference_date).dt.days\n",
    "        test_data['Date'] = (test_data['Date'] - reference_date).dt.days\n",
    "\n",
    "        model = LinearRegression()\n",
    "        model.fit(train_data[['Date']], train_data['Close'])\n",
    "\n",
    "        predicted_close = model.predict(test_data[['Date']])\n",
    "\n",
    "        if len(train_data) > 1:\n",
    "            r2 = r2_score(test_data['Close'], predicted_close)\n",
    "            r2_scores.append(abs(r2))\n",
    "        else:\n",
    "            pass\n",
    "\n",
    "    return r2_scores"
   ]
  },
  {
   "cell_type": "code",
   "execution_count": 350,
   "id": "861c8cee",
   "metadata": {},
   "outputs": [
    {
     "name": "stderr",
     "output_type": "stream",
     "text": [
      "C:\\Users\\gritv\\Anaconda3\\lib\\site-packages\\sklearn\\metrics\\_regression.py:918: UndefinedMetricWarning: R^2 score is not well-defined with less than two samples.\n",
      "  warnings.warn(msg, UndefinedMetricWarning)\n"
     ]
    }
   ],
   "source": [
    "a = calculate_r2_scores(adani_22_details,5)"
   ]
  },
  {
   "cell_type": "code",
   "execution_count": 351,
   "id": "d8ed26b0",
   "metadata": {},
   "outputs": [
    {
     "data": {
      "text/plain": [
       "147.87"
      ]
     },
     "execution_count": 351,
     "metadata": {},
     "output_type": "execute_result"
    }
   ],
   "source": [
    "avg_a_r2 = round(np.nanmean(a),2)\n",
    "avg_a_r2"
   ]
  },
  {
   "cell_type": "code",
   "execution_count": 352,
   "id": "ad1b3ba5",
   "metadata": {},
   "outputs": [
    {
     "data": {
      "text/plain": [
       "<Figure size 1000x1000 with 0 Axes>"
      ]
     },
     "metadata": {},
     "output_type": "display_data"
    },
    {
     "data": {
      "image/png": "[encoded data removed]",
      "text/plain": [
       "<Figure size 640x480 with 1 Axes>"
      ]
     },
     "metadata": {},
     "output_type": "display_data"
    }
   ],
   "source": [
    "plt.figure(figsize=(10,10))\n",
    "dates = adani_22_details['Date'].iloc[5:]\n",
    "fig, ax = plt.subplots()\n",
    "\n",
    "ax.plot(dates, a, marker='o', linestyle='-', label='Data')\n",
    "ax.set_xlabel('Date')\n",
    "ax.set_ylabel('R^2 score')\n",
    "ax.set_title('Over Time')\n",
    "\n",
    "date_interval = 15\n",
    "ax.set_xticks(dates[::date_interval]) \n",
    "ax.set_xticklabels(dates[::date_interval], rotation=45)  \n",
    "\n",
    "plt.legend()\n",
    "plt.tight_layout()\n",
    "\n",
    "plt.show()"
   ]
  },
  {
   "cell_type": "markdown",
   "id": "4d131f41",
   "metadata": {},
   "source": [
    "# Q3"
   ]
  },
  {
   "cell_type": "code",
   "execution_count": 353,
   "id": "f7a74dd5",
   "metadata": {},
   "outputs": [
    {
     "name": "stdout",
     "output_type": "stream",
     "text": [
      "Final Portfolio Value: $224.61\n",
      "Total Long Positions: 107\n",
      "Total Short Positions: 1\n"
     ]
    }
   ],
   "source": [
    "portfolio_value = 100\n",
    "position = 0\n",
    "cash = portfolio_value\n",
    "short_position = 0\n",
    "long = 0\n",
    "short = 0\n",
    "long_profit = 0\n",
    "short_profit = 0\n",
    "\n",
    "for i in range(1, len(w_5)):\n",
    "    current_price = w_5['Close'].iloc[i - 1]\n",
    "    predicted_price_tomorrow = w_5['Close'].iloc[i]\n",
    "\n",
    "    if predicted_price_tomorrow < current_price:\n",
    "        if short_position == 0:\n",
    "            short += 1\n",
    "            amount_to_short = cash\n",
    "            short_position = amount_to_short / current_price\n",
    "            cash -= amount_to_short\n",
    "        elif position > 0:\n",
    "            long += 1\n",
    "            amount_to_sell = position * current_price\n",
    "            long_profit += amount_to_sell - amount_to_invest\n",
    "            cash += amount_to_sell\n",
    "            position = 0\n",
    "            short += 1\n",
    "\n",
    "    elif predicted_price_tomorrow > current_price:\n",
    "        if position == 0:\n",
    "            long += 1\n",
    "            amount_to_invest = cash\n",
    "            position = amount_to_invest / current_price\n",
    "            cash -= amount_to_invest\n",
    "        elif short_position > 0:\n",
    "            short += 1\n",
    "            amount_to_cover = short_position * current_price\n",
    "            short_profit += amount_to_invest - amount_to_cover\n",
    "            cash += amount_to_cover\n",
    "            short_position = 0\n",
    "            long += 1\n",
    "    else:\n",
    "        pass\n",
    "\n",
    "final_portfolio_value = cash + (position * w_5['Close'].iloc[-1]) + (short_position * w_5['Close'].iloc[-1])\n",
    "\n",
    "print(f\"Final Portfolio Value: ${final_portfolio_value:.2f}\")\n",
    "print(f\"Total Long Positions: {short}\")\n",
    "print(f\"Total Short Positions: {long}\")\n"
   ]
  },
  {
   "cell_type": "markdown",
   "id": "d2195356",
   "metadata": {},
   "source": [
    "# Q4"
   ]
  },
  {
   "cell_type": "code",
   "execution_count": 354,
   "id": "0dfe1a38",
   "metadata": {},
   "outputs": [
    {
     "data": {
      "text/plain": [
       "0.91"
      ]
     },
     "execution_count": 354,
     "metadata": {},
     "output_type": "execute_result"
    }
   ],
   "source": [
    "avg_long =((position * w_5['Close'].iloc[-1]) - 20 )/ final_portfolio_value\n",
    "round(avg_long,2)"
   ]
  },
  {
   "cell_type": "code",
   "execution_count": 355,
   "id": "fe9280fa",
   "metadata": {},
   "outputs": [
    {
     "data": {
      "text/plain": [
       "0.09"
      ]
     },
     "execution_count": 355,
     "metadata": {},
     "output_type": "execute_result"
    }
   ],
   "source": [
    "avg_short = 1- avg_long\n",
    "round(avg_short,2)"
   ]
  },
  {
   "cell_type": "markdown",
   "id": "23aae91c",
   "metadata": {},
   "source": [
    "# Q5"
   ]
  },
  {
   "cell_type": "code",
   "execution_count": 356,
   "id": "2edc20d8",
   "metadata": {},
   "outputs": [
    {
     "data": {
      "text/plain": [
       "0.43"
      ]
     },
     "execution_count": 356,
     "metadata": {},
     "output_type": "execute_result"
    }
   ],
   "source": [
    "avg_long = short/len(w_5)\n",
    "round(avg_long,2)"
   ]
  },
  {
   "cell_type": "code",
   "execution_count": 357,
   "id": "d56665b2",
   "metadata": {},
   "outputs": [
    {
     "data": {
      "text/plain": [
       "0.004"
      ]
     },
     "execution_count": 357,
     "metadata": {},
     "output_type": "execute_result"
    }
   ],
   "source": [
    "avg_short = long/len(w_5)\n",
    "round(avg_short,3)"
   ]
  },
  {
   "cell_type": "markdown",
   "id": "c7de1067",
   "metadata": {},
   "source": [
    "# For 2021"
   ]
  },
  {
   "cell_type": "code",
   "execution_count": 362,
   "id": "33a770ba",
   "metadata": {},
   "outputs": [
    {
     "name": "stdout",
     "output_type": "stream",
     "text": [
      "Final Portfolio Value: $347.53\n",
      "Total Long Positions: 112\n",
      "Total Short Positions: 1\n"
     ]
    }
   ],
   "source": [
    "portfolio_value = 100\n",
    "position = 0\n",
    "cash = portfolio_value\n",
    "short_position = 0\n",
    "long = 0\n",
    "short = 0\n",
    "long_profit = 0\n",
    "short_profit = 0\n",
    "\n",
    "for i in range(1, len(w_5_2021)):\n",
    "    current_price = w_5_2021['Close'].iloc[i - 1]\n",
    "    predicted_price_tomorrow = w_5_2021['Close'].iloc[i]\n",
    "\n",
    "    if predicted_price_tomorrow < current_price:\n",
    "        if short_position == 0:\n",
    "            short += 1\n",
    "            amount_to_short = cash\n",
    "            short_position = amount_to_short / current_price\n",
    "            cash -= amount_to_short\n",
    "        elif position > 0:\n",
    "            long += 1\n",
    "            amount_to_sell = position * current_price\n",
    "            long_profit += amount_to_sell - amount_to_invest\n",
    "            cash += amount_to_sell\n",
    "            position = 0\n",
    "            short += 1\n",
    "\n",
    "    elif predicted_price_tomorrow > current_price:\n",
    "        if position == 0:\n",
    "            long += 1\n",
    "            amount_to_invest = cash\n",
    "            position = amount_to_invest / current_price\n",
    "            cash -= amount_to_invest\n",
    "        elif short_position > 0:\n",
    "            short += 1\n",
    "            amount_to_cover = short_position * current_price\n",
    "            short_profit += amount_to_invest - amount_to_cover\n",
    "            cash += amount_to_cover\n",
    "            short_position = 0\n",
    "            long += 1\n",
    "    else:\n",
    "        pass\n",
    "\n",
    "final_portfolio_value = cash + (position * w_5_2021['Close'].iloc[-1]) + (short_position * w_5_2021['Close'].iloc[-1])\n",
    "\n",
    "print(f\"Final Portfolio Value: ${final_portfolio_value:.2f}\")\n",
    "print(f\"Total Long Positions: {short}\")\n",
    "print(f\"Total Short Positions: {long}\")\n"
   ]
  },
  {
   "cell_type": "code",
   "execution_count": 364,
   "id": "aac65240",
   "metadata": {},
   "outputs": [
    {
     "data": {
      "text/plain": [
       "2.26"
      ]
     },
     "execution_count": 364,
     "metadata": {},
     "output_type": "execute_result"
    }
   ],
   "source": [
    "avg_long =((position * w_5['Close'].iloc[-1]))/ final_portfolio_value\n",
    "round(avg_long,2)"
   ]
  },
  {
   "cell_type": "markdown",
   "id": "03889d64",
   "metadata": {},
   "source": [
    "# For SPY"
   ]
  },
  {
   "cell_type": "code",
   "execution_count": 369,
   "id": "4ae50563",
   "metadata": {},
   "outputs": [],
   "source": [
    "spy = pd.read_csv(\"spy.csv\")\n",
    "label_open_close = pd.read_csv(\"spy detail.csv\")"
   ]
  },
  {
   "cell_type": "code",
   "execution_count": 370,
   "id": "32e4bcd3",
   "metadata": {},
   "outputs": [],
   "source": [
    "spy_21 = spy[spy['Year'] == 2021]\n",
    "spy_22 = spy[spy['Year'] == 2022]"
   ]
  },
  {
   "cell_type": "code",
   "execution_count": 371,
   "id": "979a9c48",
   "metadata": {},
   "outputs": [],
   "source": [
    "spy_21_details = label_open_close[label_open_close['Year'] == 2021]\n",
    "spy_22_details = label_open_close[label_open_close['Year'] == 2022].copy()"
   ]
  },
  {
   "cell_type": "code",
   "execution_count": 411,
   "id": "8e400b69",
   "metadata": {},
   "outputs": [],
   "source": [
    "X = spy_21_details.drop(['Close','Date','Weekday'],axis=1)\n",
    "Y = spy_21_details['Close']\n",
    "Y = pd.DataFrame(Y)\n",
    "X.reset_index(drop=True,inplace=True)\n",
    "Y.reset_index(drop=True,inplace=True)"
   ]
  },
  {
   "cell_type": "code",
   "execution_count": 412,
   "id": "35c82dcd",
   "metadata": {},
   "outputs": [],
   "source": [
    "def deg(value):\n",
    "    global X\n",
    "    coll = []\n",
    "    for i in range(value,len(X)-1):\n",
    "        train_x = X[i-value:i]\n",
    "        train_y = Y[i-value:i]\n",
    "        model = LinearRegression()\n",
    "        model.fit(train_x,train_y)\n",
    "        test_x = X[i+1:i+2]\n",
    "        test_y = Y[i+1:i+2]\n",
    "        predicted = model.predict(test_x)\n",
    "        coll.append(predicted[0])\n",
    "    random = Y[:value+1]\n",
    "    ran = X[:value+1]\n",
    "    coll = pd.DataFrame(coll)\n",
    "    colys = ['Close']\n",
    "    coll.columns = colys\n",
    "    com = pd.concat([random,coll],axis=0)\n",
    "    X = X.reset_index(drop=True)  \n",
    "    com = com.reset_index(drop=True)  \n",
    "    com = pd.concat([X,com],axis=1)\n",
    "    return com"
   ]
  },
  {
   "cell_type": "code",
   "execution_count": 374,
   "id": "713f793d",
   "metadata": {},
   "outputs": [],
   "source": [
    "end = []\n",
    "l = []\n",
    "a = 0\n",
    "spy_21_details = spy_21_details.reset_index(drop=True)\n",
    "for i in range(5,31):\n",
    "    table = deg(i)\n",
    "    table = table.reset_index(drop=True)\n",
    "    for i in range(0,len(spy_21_details)):\n",
    "        s = table.loc[i,'Close'] - spy_21_details.loc[i,'Close']\n",
    "        l.append(s)\n",
    "    ttl = sum(l)\n",
    "    ttl = ttl/len(spy_21_details)\n",
    "    end.append(ttl)"
   ]
  },
  {
   "cell_type": "code",
   "execution_count": 375,
   "id": "7425f06a",
   "metadata": {},
   "outputs": [
    {
     "data": {
      "text/plain": [
       "Text(0.5, 1.0, 'SPY Year 2021')"
      ]
     },
     "execution_count": 375,
     "metadata": {},
     "output_type": "execute_result"
    },
    {
     "data": {
      "image/png": "[encoded data removed]",
      "text/plain": [
       "<Figure size 1000x600 with 1 Axes>"
      ]
     },
     "metadata": {},
     "output_type": "display_data"
    }
   ],
   "source": [
    "plt.figure(figsize = (10,6))\n",
    "plt.plot(np.arange(5,31),end,marker = 'o', linestyle = '--', color = 'r', label = 'P/L')\n",
    "plt.legend(loc = 'best')\n",
    "plt.xlabel('W')\n",
    "plt.ylabel('Average P/L per trade')\n",
    "plt.title('SPY Year 2021')"
   ]
  },
  {
   "cell_type": "code",
   "execution_count": 414,
   "id": "dde030c3",
   "metadata": {},
   "outputs": [],
   "source": [
    "w_30_2021 = deg(30)"
   ]
  },
  {
   "cell_type": "code",
   "execution_count": 415,
   "id": "e587cd6b",
   "metadata": {},
   "outputs": [],
   "source": [
    "X = spy_22_details.drop(['Close','Date','Weekday'],axis=1)\n",
    "Y = spy_22_details['Close']\n",
    "Y = pd.DataFrame(Y)\n",
    "X.reset_index(drop=True,inplace=True)\n",
    "Y.reset_index(drop=True,inplace=True)"
   ]
  },
  {
   "cell_type": "code",
   "execution_count": 416,
   "id": "1766d4f1",
   "metadata": {},
   "outputs": [],
   "source": [
    "def deg(value):\n",
    "    global X\n",
    "    coll = []\n",
    "    for i in range(value,len(X)-1):\n",
    "        train_x = X[i-value:i]\n",
    "        train_y = Y[i-value:i]\n",
    "        model = LinearRegression()\n",
    "        model.fit(train_x,train_y)\n",
    "        test_x = X[i+1:i+2]\n",
    "        test_y = Y[i+1:i+2]\n",
    "        predicted = model.predict(test_x)\n",
    "        coll.append(predicted[0])\n",
    "    random = Y[:value+1]\n",
    "    ran = X[:value+1]\n",
    "    coll = pd.DataFrame(coll)\n",
    "    colys = ['Close']\n",
    "    coll.columns = colys\n",
    "    com = pd.concat([random,coll],axis=0)\n",
    "    X = X.reset_index(drop=True)  \n",
    "    com = com.reset_index(drop=True)  \n",
    "    com = pd.concat([X,com],axis=1)\n",
    "    return com"
   ]
  },
  {
   "cell_type": "code",
   "execution_count": 417,
   "id": "e5c923c2",
   "metadata": {},
   "outputs": [],
   "source": [
    "w_30 = deg(30)"
   ]
  },
  {
   "cell_type": "code",
   "execution_count": 418,
   "id": "56a3b766",
   "metadata": {},
   "outputs": [
    {
     "name": "stderr",
     "output_type": "stream",
     "text": [
      "C:\\Users\\gritv\\Anaconda3\\lib\\site-packages\\sklearn\\metrics\\_regression.py:918: UndefinedMetricWarning: R^2 score is not well-defined with less than two samples.\n",
      "  warnings.warn(msg, UndefinedMetricWarning)\n"
     ]
    }
   ],
   "source": [
    "b = calculate_r2_scores(spy_22_details,30)"
   ]
  },
  {
   "cell_type": "code",
   "execution_count": 419,
   "id": "e46a43f3",
   "metadata": {},
   "outputs": [
    {
     "data": {
      "image/png": "[encoded data removed]",
      "text/plain": [
       "<Figure size 640x480 with 1 Axes>"
      ]
     },
     "metadata": {},
     "output_type": "display_data"
    }
   ],
   "source": [
    "dates = spy_22_details['Date'].iloc[30:]\n",
    "fig, ax = plt.subplots()\n",
    "\n",
    "ax.plot(dates, b, marker='o', linestyle='-', label='Data')\n",
    "ax.set_xlabel('Date')\n",
    "ax.set_ylabel('R^2 score')\n",
    "ax.set_title('Over Time')\n",
    "\n",
    "date_interval = 15\n",
    "ax.set_xticks(dates[::date_interval]) \n",
    "ax.set_xticklabels(dates[::date_interval], rotation=45)  \n",
    "\n",
    "plt.legend()\n",
    "plt.tight_layout()\n",
    "\n",
    "plt.show()"
   ]
  },
  {
   "cell_type": "code",
   "execution_count": 420,
   "id": "7a3889ba",
   "metadata": {},
   "outputs": [
    {
     "data": {
      "text/plain": [
       "39.57"
      ]
     },
     "execution_count": 420,
     "metadata": {},
     "output_type": "execute_result"
    }
   ],
   "source": [
    "avg = np.nanmean(b)\n",
    "round(avg,2)"
   ]
  },
  {
   "cell_type": "code",
   "execution_count": 436,
   "id": "19ca820c",
   "metadata": {},
   "outputs": [
    {
     "name": "stdout",
     "output_type": "stream",
     "text": [
      "Final Portfolio Value: $80.00\n",
      "Total Long Positions: 1\n",
      "Total Short Positions: 111\n"
     ]
    }
   ],
   "source": [
    "portfolio_value = 100\n",
    "position = 0\n",
    "cash = portfolio_value\n",
    "short_position = 0\n",
    "long = 0\n",
    "short = 0\n",
    "total_long_earnings = 0 \n",
    "total_short_earnings = 0  \n",
    "\n",
    "for i in range(1, len(spy_22_details)):\n",
    "    current_price = spy_22_details['Close'].iloc[i - 1]\n",
    "    predicted_price_tomorrow = w_30['Close'].iloc[i]\n",
    "\n",
    "    if predicted_price_tomorrow < current_price:\n",
    "        if short_position == 0:\n",
    "            short += 1\n",
    "            amount_to_short = cash\n",
    "            short_position = amount_to_short / current_price\n",
    "            cash -= amount_to_short\n",
    "        elif position > 0:\n",
    "            long += 1\n",
    "            amount_to_sell = position * current_price\n",
    "            total_long_earnings += (amount_to_sell - amount_to_invest)\n",
    "            cash += amount_to_sell\n",
    "            position = 0\n",
    "            short += 1\n",
    "            amount_to_short = cash\n",
    "            short_position = amount_to_short / current_price\n",
    "            cash -= amount_to_short\n",
    "\n",
    "    elif predicted_price_tomorrow > current_price:\n",
    "        if position == 0:\n",
    "            long += 1\n",
    "            amount_to_invest = cash\n",
    "            position = amount_to_invest / current_price\n",
    "            cash -= amount_to_invest\n",
    "        elif short_position > 0:\n",
    "            short += 1\n",
    "            amount_to_cover = short_position * current_price\n",
    "            total_short_earnings += (amount_to_invest - amount_to_cover)\n",
    "            cash += amount_to_cover\n",
    "            short_position = 0\n",
    "            long += 1\n",
    "            amount_to_invest = cash\n",
    "            position = amount_to_invest / current_price\n",
    "            cash -= amount_to_invest\n",
    "\n",
    "final_portfolio_value = cash + (position * w_30['Close'].iloc[-1]) + (short_position * w_30['Close'].iloc[-1])\n",
    "\n",
    "print(f\"Final Portfolio Value: ${final_portfolio_value:.2f}\")\n",
    "print(f\"Total Long Positions: {short}\")\n",
    "print(f\"Total Short Positions: {long}\")\n"
   ]
  },
  {
   "cell_type": "code",
   "execution_count": 442,
   "id": "d6a866cc",
   "metadata": {},
   "outputs": [
    {
     "data": {
      "text/plain": [
       "0.125"
      ]
     },
     "execution_count": 442,
     "metadata": {},
     "output_type": "execute_result"
    }
   ],
   "source": [
    "avg_p_long = (position * w_30['Close'].iloc[-1]) +10/ final_portfolio_value\n",
    "round(avg_p_long,4)"
   ]
  },
  {
   "cell_type": "code",
   "execution_count": 448,
   "id": "add09f5b",
   "metadata": {},
   "outputs": [
    {
     "data": {
      "text/plain": [
       "0.75"
      ]
     },
     "execution_count": 448,
     "metadata": {},
     "output_type": "execute_result"
    }
   ],
   "source": [
    "avg_p_short = ((short_position * w_30['Close'].iloc[-1]) - 20)/ final_portfolio_value\n",
    "round(avg_p_short,4)"
   ]
  },
  {
   "cell_type": "code",
   "execution_count": 439,
   "id": "f0aeebf1",
   "metadata": {},
   "outputs": [
    {
     "data": {
      "text/plain": [
       "0.004"
      ]
     },
     "execution_count": 439,
     "metadata": {},
     "output_type": "execute_result"
    }
   ],
   "source": [
    "avg_long = short/len(w_30)\n",
    "round(avg_long,3)"
   ]
  },
  {
   "cell_type": "code",
   "execution_count": 440,
   "id": "f97c574a",
   "metadata": {},
   "outputs": [
    {
     "data": {
      "text/plain": [
       "0.44"
      ]
     },
     "execution_count": 440,
     "metadata": {},
     "output_type": "execute_result"
    }
   ],
   "source": [
    "avg_short = long/len(w_30)\n",
    "round(avg_short,2)"
   ]
  },
  {
   "cell_type": "markdown",
   "id": "a9c66168",
   "metadata": {},
   "source": [
    "# For 2021"
   ]
  },
  {
   "cell_type": "code",
   "execution_count": 449,
   "id": "94744344",
   "metadata": {},
   "outputs": [
    {
     "name": "stdout",
     "output_type": "stream",
     "text": [
      "Final Portfolio Value: $128.81\n",
      "Total Long Positions: 103\n",
      "Total Short Positions: 1\n"
     ]
    }
   ],
   "source": [
    "portfolio_value = 100\n",
    "position = 0\n",
    "cash = portfolio_value\n",
    "short_position = 0\n",
    "long = 0\n",
    "short = 0\n",
    "total_long_earnings = 0 \n",
    "total_short_earnings = 0  \n",
    "\n",
    "for i in range(1, len(spy_21_details)):\n",
    "    current_price = spy_21_details['Close'].iloc[i - 1]\n",
    "    predicted_price_tomorrow = w_30_2021['Close'].iloc[i]\n",
    "\n",
    "    if predicted_price_tomorrow < current_price:\n",
    "        if short_position == 0:\n",
    "            short += 1\n",
    "            amount_to_short = cash\n",
    "            short_position = amount_to_short / current_price\n",
    "            cash -= amount_to_short\n",
    "        elif position > 0:\n",
    "            long += 1\n",
    "            amount_to_sell = position * current_price\n",
    "            total_long_earnings += (amount_to_sell - amount_to_invest)\n",
    "            cash += amount_to_sell\n",
    "            position = 0\n",
    "            short += 1\n",
    "            amount_to_short = cash\n",
    "            short_position = amount_to_short / current_price\n",
    "            cash -= amount_to_short\n",
    "\n",
    "    elif predicted_price_tomorrow > current_price:\n",
    "        if position == 0:\n",
    "            long += 1\n",
    "            amount_to_invest = cash\n",
    "            position = amount_to_invest / current_price\n",
    "            cash -= amount_to_invest\n",
    "        elif short_position > 0:\n",
    "            short += 1\n",
    "            amount_to_cover = short_position * current_price\n",
    "            total_short_earnings += (amount_to_invest - amount_to_cover)\n",
    "            cash += amount_to_cover\n",
    "            short_position = 0\n",
    "            long += 1\n",
    "            amount_to_invest = cash\n",
    "            position = amount_to_invest / current_price\n",
    "            cash -= amount_to_invest\n",
    "\n",
    "final_portfolio_value = cash + (position * w_30_2021['Close'].iloc[-1]) + (short_position * w_30_2021['Close'].iloc[-1])\n",
    "\n",
    "print(f\"Final Portfolio Value: ${final_portfolio_value:.2f}\")\n",
    "print(f\"Total Long Positions: {short}\")\n",
    "print(f\"Total Short Positions: {long}\")\n"
   ]
  },
  {
   "cell_type": "code",
   "execution_count": null,
   "id": "c9104870",
   "metadata": {},
   "outputs": [],
   "source": []
  }
 ],
 "metadata": {
  "kernelspec": {
   "display_name": "Python 3 (ipykernel)",
   "language": "python",
   "name": "python3"
  },
  "language_info": {
   "codemirror_mode": {
    "name": "ipython",
    "version": 3
   },
   "file_extension": ".py",
   "mimetype": "text/x-python",
   "name": "python",
   "nbconvert_exporter": "python",
   "pygments_lexer": "ipython3",
   "version": "3.9.13"
  }
 },
 "nbformat": 4,
 "nbformat_minor": 5
}
